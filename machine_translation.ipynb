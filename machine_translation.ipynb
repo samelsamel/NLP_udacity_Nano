{
 "cells": [
  {
   "cell_type": "markdown",
   "metadata": {
    "collapsed": true
   },
   "source": [
    "# Artificial Intelligence Nanodegree\n",
    "## Machine Translation Project\n",
    "In this notebook, sections that end with **'(IMPLEMENTATION)'** in the header indicate that the following blocks of code will require additional functionality which you must provide. Please be sure to read the instructions carefully!\n",
    "\n",
    "## Introduction\n",
    "In this notebook, you will build a deep neural network that functions as part of an end-to-end machine translation pipeline. Your completed pipeline will accept English text as input and return the French translation.\n",
    "\n",
    "- **Preprocess** - You'll convert text to sequence of integers.\n",
    "- **Models** Create models which accepts a sequence of integers as input and returns a probability distribution over possible translations. After learning about the basic types of neural networks that are often used for machine translation, you will engage in your own investigations, to design your own model!\n",
    "- **Prediction** Run the model on English text."
   ]
  },
  {
   "cell_type": "code",
   "execution_count": 1,
   "metadata": {},
   "outputs": [],
   "source": [
    "%load_ext autoreload\n",
    "%aimport helper, tests\n",
    "%autoreload 1"
   ]
  },
  {
   "cell_type": "code",
   "execution_count": 2,
   "metadata": {},
   "outputs": [
    {
     "name": "stderr",
     "output_type": "stream",
     "text": [
      "Using TensorFlow backend.\n"
     ]
    }
   ],
   "source": [
    "import collections\n",
    "\n",
    "import helper\n",
    "import numpy as np\n",
    "import project_tests as tests\n",
    "\n",
    "from keras.preprocessing.text import Tokenizer\n",
    "from keras.preprocessing.sequence import pad_sequences\n",
    "from keras.models import Model\n",
    "from keras.layers import GRU, Input, Dense, TimeDistributed, Activation, RepeatVector, Bidirectional\n",
    "from keras.layers.embeddings import Embedding\n",
    "from keras.optimizers import Adam\n",
    "from keras.losses import sparse_categorical_crossentropy"
   ]
  },
  {
   "cell_type": "code",
   "execution_count": 3,
   "metadata": {},
   "outputs": [
    {
     "data": {
      "text/plain": [
       "'2.0.9'"
      ]
     },
     "execution_count": 3,
     "metadata": {},
     "output_type": "execute_result"
    }
   ],
   "source": [
    "import keras\n",
    "keras.__version__"
   ]
  },
  {
   "cell_type": "markdown",
   "metadata": {},
   "source": [
    "### Verify access to the GPU\n",
    "The following test applies only if you expect to be using a GPU, e.g., while running in a Udacity Workspace or using an AWS instance with GPU support. Run the next cell, and verify that the device_type is \"GPU\".\n",
    "- If the device is not GPU & you are running from a Udacity Workspace, then save your workspace with the icon at the top, then click \"enable\" at the bottom of the workspace.\n",
    "- If the device is not GPU & you are running from an AWS instance, then refer to the cloud computing instructions in the classroom to verify your setup steps."
   ]
  },
  {
   "cell_type": "code",
   "execution_count": 4,
   "metadata": {},
   "outputs": [
    {
     "name": "stdout",
     "output_type": "stream",
     "text": [
      "[name: \"/cpu:0\"\n",
      "device_type: \"CPU\"\n",
      "memory_limit: 268435456\n",
      "locality {\n",
      "}\n",
      "incarnation: 10590915782487545634\n",
      ", name: \"/gpu:0\"\n",
      "device_type: \"GPU\"\n",
      "memory_limit: 357302272\n",
      "locality {\n",
      "  bus_id: 1\n",
      "}\n",
      "incarnation: 12546215154249865035\n",
      "physical_device_desc: \"device: 0, name: Tesla K80, pci bus id: 0000:00:04.0\"\n",
      "]\n"
     ]
    }
   ],
   "source": [
    "from tensorflow.python.client import device_lib\n",
    "print(device_lib.list_local_devices())"
   ]
  },
  {
   "cell_type": "markdown",
   "metadata": {},
   "source": [
    "## Dataset\n",
    "We begin by investigating the dataset that will be used to train and evaluate your pipeline.  The most common datasets used for machine translation are from [WMT](http://www.statmt.org/).  However, that will take a long time to train a neural network on.  We'll be using a dataset we created for this project that contains a small vocabulary.  You'll be able to train your model in a reasonable time with this dataset.\n",
    "### Load Data\n",
    "The data is located in `data/small_vocab_en` and `data/small_vocab_fr`. The `small_vocab_en` file contains English sentences with their French translations in the `small_vocab_fr` file. Load the English and French data from these files from running the cell below."
   ]
  },
  {
   "cell_type": "code",
   "execution_count": 5,
   "metadata": {},
   "outputs": [
    {
     "name": "stdout",
     "output_type": "stream",
     "text": [
      "Dataset Loaded\n"
     ]
    }
   ],
   "source": [
    "# Load English data\n",
    "english_sentences = helper.load_data('data/small_vocab_en')\n",
    "# Load French data\n",
    "french_sentences = helper.load_data('data/small_vocab_fr')\n",
    "\n",
    "print('Dataset Loaded')"
   ]
  },
  {
   "cell_type": "markdown",
   "metadata": {},
   "source": [
    "### Files\n",
    "Each line in `small_vocab_en` contains an English sentence with the respective translation in each line of `small_vocab_fr`.  View the first two lines from each file."
   ]
  },
  {
   "cell_type": "code",
   "execution_count": 6,
   "metadata": {},
   "outputs": [
    {
     "name": "stdout",
     "output_type": "stream",
     "text": [
      "small_vocab_en Line 1:  new jersey is sometimes quiet during autumn , and it is snowy in april .\n",
      "small_vocab_fr Line 1:  new jersey est parfois calme pendant l' automne , et il est neigeux en avril .\n",
      "small_vocab_en Line 2:  the united states is usually chilly during july , and it is usually freezing in november .\n",
      "small_vocab_fr Line 2:  les états-unis est généralement froid en juillet , et il gèle habituellement en novembre .\n"
     ]
    }
   ],
   "source": [
    "for sample_i in range(2):\n",
    "    print('small_vocab_en Line {}:  {}'.format(sample_i + 1, english_sentences[sample_i]))\n",
    "    print('small_vocab_fr Line {}:  {}'.format(sample_i + 1, french_sentences[sample_i]))"
   ]
  },
  {
   "cell_type": "markdown",
   "metadata": {},
   "source": [
    "From looking at the sentences, you can see they have been preprocessed already.  The puncuations have been delimited using spaces. All the text have been converted to lowercase.  This should save you some time, but the text requires more preprocessing.\n",
    "### Vocabulary\n",
    "The complexity of the problem is determined by the complexity of the vocabulary.  A more complex vocabulary is a more complex problem.  Let's look at the complexity of the dataset we'll be working with."
   ]
  },
  {
   "cell_type": "code",
   "execution_count": 7,
   "metadata": {},
   "outputs": [
    {
     "name": "stdout",
     "output_type": "stream",
     "text": [
      "1823250 English words.\n",
      "227 unique English words.\n",
      "10 Most common words in the English dataset:\n",
      "\"is\" \",\" \".\" \"in\" \"it\" \"during\" \"the\" \"but\" \"and\" \"sometimes\"\n",
      "\n",
      "1961295 French words.\n",
      "355 unique French words.\n",
      "10 Most common words in the French dataset:\n",
      "\"est\" \".\" \",\" \"en\" \"il\" \"les\" \"mais\" \"et\" \"la\" \"parfois\"\n"
     ]
    }
   ],
   "source": [
    "english_words_counter = collections.Counter([word for sentence in english_sentences for word in sentence.split()])\n",
    "french_words_counter = collections.Counter([word for sentence in french_sentences for word in sentence.split()])\n",
    "\n",
    "print('{} English words.'.format(len([word for sentence in english_sentences for word in sentence.split()])))\n",
    "print('{} unique English words.'.format(len(english_words_counter)))\n",
    "print('10 Most common words in the English dataset:')\n",
    "print('\"' + '\" \"'.join(list(zip(*english_words_counter.most_common(10)))[0]) + '\"')\n",
    "print()\n",
    "print('{} French words.'.format(len([word for sentence in french_sentences for word in sentence.split()])))\n",
    "print('{} unique French words.'.format(len(french_words_counter)))\n",
    "print('10 Most common words in the French dataset:')\n",
    "print('\"' + '\" \"'.join(list(zip(*french_words_counter.most_common(10)))[0]) + '\"')"
   ]
  },
  {
   "cell_type": "markdown",
   "metadata": {},
   "source": [
    "For comparison, _Alice's Adventures in Wonderland_ contains 2,766 unique words of a total of 15,500 words.\n",
    "## Preprocess\n",
    "For this project, you won't use text data as input to your model. Instead, you'll convert the text into sequences of integers using the following preprocess methods:\n",
    "1. Tokenize the words into ids\n",
    "2. Add padding to make all the sequences the same length.\n",
    "\n",
    "Time to start preprocessing the data...\n",
    "### Tokenize (IMPLEMENTATION)\n",
    "For a neural network to predict on text data, it first has to be turned into data it can understand. Text data like \"dog\" is a sequence of ASCII character encodings.  Since a neural network is a series of multiplication and addition operations, the input data needs to be number(s).\n",
    "\n",
    "We can turn each character into a number or each word into a number.  These are called character and word ids, respectively.  Character ids are used for character level models that generate text predictions for each character.  A word level model uses word ids that generate text predictions for each word.  Word level models tend to learn better, since they are lower in complexity, so we'll use those.\n",
    "\n",
    "Turn each sentence into a sequence of words ids using Keras's [`Tokenizer`](https://keras.io/preprocessing/text/#tokenizer) function. Use this function to tokenize `english_sentences` and `french_sentences` in the cell below.\n",
    "\n",
    "Running the cell will run `tokenize` on sample data and show output for debugging."
   ]
  },
  {
   "cell_type": "code",
   "execution_count": 8,
   "metadata": {},
   "outputs": [
    {
     "name": "stdout",
     "output_type": "stream",
     "text": [
      "{'the': 1, 'quick': 2, 'a': 3, 'brown': 4, 'fox': 5, 'jumps': 6, 'over': 7, 'lazy': 8, 'dog': 9, 'by': 10, 'jove': 11, 'my': 12, 'study': 13, 'of': 14, 'lexicography': 15, 'won': 16, 'prize': 17, 'this': 18, 'is': 19, 'short': 20, 'sentence': 21}\n",
      "\n",
      "Sequence 1 in x\n",
      "  Input:  The quick brown fox jumps over the lazy dog .\n",
      "  Output: [1, 2, 4, 5, 6, 7, 1, 8, 9]\n",
      "Sequence 2 in x\n",
      "  Input:  By Jove , my quick study of lexicography won a prize .\n",
      "  Output: [10, 11, 12, 2, 13, 14, 15, 16, 3, 17]\n",
      "Sequence 3 in x\n",
      "  Input:  This is a short sentence .\n",
      "  Output: [18, 19, 3, 20, 21]\n"
     ]
    }
   ],
   "source": [
    "def tokenize(x):\n",
    "    \"\"\"\n",
    "    Tokenize x\n",
    "    :param x: List of sentences/strings to be tokenized\n",
    "    :return: Tuple of (tokenized x data, tokenizer used to tokenize x)\n",
    "    \"\"\"    \n",
    "\n",
    "    tokenizer = Tokenizer()\n",
    "\n",
    "    tokenized_text = tokenizer.fit_on_texts(x)\n",
    "    train_sequences = tokenizer.texts_to_sequences(x)\n",
    "\n",
    "\n",
    "    return  train_sequences,tokenizer\n",
    "\n",
    "\n",
    "tests.test_tokenize(tokenize)\n",
    "\n",
    "# Tokenize Example output\n",
    "text_sentences = [\n",
    "    'The quick brown fox jumps over the lazy dog .',\n",
    "    'By Jove , my quick study of lexicography won a prize .',\n",
    "    'This is a short sentence .']\n",
    "text_tokenized, text_tokenizer = tokenize(text_sentences)\n",
    "print(text_tokenizer.word_index)\n",
    "print()\n",
    "for sample_i, (sent, token_sent) in enumerate(zip(text_sentences, text_tokenized)):\n",
    "    print('Sequence {} in x'.format(sample_i + 1))\n",
    "    print('  Input:  {}'.format(sent))\n",
    "    print('  Output: {}'.format(token_sent))"
   ]
  },
  {
   "cell_type": "markdown",
   "metadata": {},
   "source": [
    "### Padding (IMPLEMENTATION)\n",
    "When batching the sequence of word ids together, each sequence needs to be the same length.  Since sentences are dynamic in length, we can add padding to the end of the sequences to make them the same length.\n",
    "\n",
    "Make sure all the English sequences have the same length and all the French sequences have the same length by adding padding to the **end** of each sequence using Keras's [`pad_sequences`](https://keras.io/preprocessing/sequence/#pad_sequences) function."
   ]
  },
  {
   "cell_type": "code",
   "execution_count": 9,
   "metadata": {},
   "outputs": [
    {
     "name": "stdout",
     "output_type": "stream",
     "text": [
      "Sequence 1 in x\n",
      "  Input:  [1 2 4 5 6 7 1 8 9]\n",
      "  Output: [1 2 4 5 6 7 1 8 9 0]\n",
      "Sequence 2 in x\n",
      "  Input:  [10 11 12  2 13 14 15 16  3 17]\n",
      "  Output: [10 11 12  2 13 14 15 16  3 17]\n",
      "Sequence 3 in x\n",
      "  Input:  [18 19  3 20 21]\n",
      "  Output: [18 19  3 20 21  0  0  0  0  0]\n"
     ]
    }
   ],
   "source": [
    "def pad(x, length=None):\n",
    "    \"\"\"\n",
    "    Pad x\n",
    "    :param x: List of sequences.\n",
    "    :param length: Length to pad the sequence to.  If None, use length of longest sequence in x.\n",
    "    :return: Padded numpy array of sequences\n",
    "    \"\"\"   \n",
    "    if length is None: \n",
    "        length = max([len(sentence) for sentence in x])\n",
    "    padding = pad_sequences(x, maxlen= length , padding='post') \n",
    "    \n",
    "    return padding \n",
    "\n",
    "tests.test_pad(pad)\n",
    "\n",
    "# Pad Tokenized output\n",
    "test_pad = pad(text_tokenized)\n",
    "for sample_i, (token_sent, pad_sent) in enumerate(zip(text_tokenized, test_pad)):\n",
    "    print('Sequence {} in x'.format(sample_i + 1))\n",
    "    print('  Input:  {}'.format(np.array(token_sent)))\n",
    "    print('  Output: {}'.format(pad_sent))"
   ]
  },
  {
   "cell_type": "markdown",
   "metadata": {},
   "source": [
    "### Preprocess Pipeline\n",
    "Your focus for this project is to build neural network architecture, so we won't ask you to create a preprocess pipeline.  Instead, we've provided you with the implementation of the `preprocess` function."
   ]
  },
  {
   "cell_type": "code",
   "execution_count": 10,
   "metadata": {},
   "outputs": [
    {
     "name": "stdout",
     "output_type": "stream",
     "text": [
      "Data Preprocessed\n",
      "Max English sentence length: 15\n",
      "Max French sentence length: 21\n",
      "English vocabulary size: 199\n",
      "French vocabulary size: 344\n"
     ]
    }
   ],
   "source": [
    "def preprocess(x, y):\n",
    "    \"\"\"\n",
    "    Preprocess x and y\n",
    "    :param x: Feature List of sentences\n",
    "    :param y: Label List of sentences\n",
    "    :return: Tuple of (Preprocessed x, Preprocessed y, x tokenizer, y tokenizer)\n",
    "    \"\"\"\n",
    "    preprocess_x, x_tk = tokenize(x)\n",
    "    preprocess_y, y_tk = tokenize(y)\n",
    "\n",
    "    preprocess_x = pad(preprocess_x)\n",
    "    preprocess_y = pad(preprocess_y)\n",
    "\n",
    "    preprocess_y = preprocess_y.reshape(*preprocess_y.shape, 1)\n",
    "\n",
    "    return preprocess_x, preprocess_y, x_tk, y_tk\n",
    "\n",
    "preproc_english_sentences, preproc_french_sentences, english_tokenizer, french_tokenizer =\\\n",
    "    preprocess(english_sentences, french_sentences)\n",
    "    \n",
    "max_english_sequence_length = preproc_english_sentences.shape[1]\n",
    "max_french_sequence_length = preproc_french_sentences.shape[1]\n",
    "english_vocab_size = len(english_tokenizer.word_index)\n",
    "french_vocab_size = len(french_tokenizer.word_index)\n",
    "\n",
    "print('Data Preprocessed')\n",
    "print(\"Max English sentence length:\", max_english_sequence_length)\n",
    "print(\"Max French sentence length:\", max_french_sequence_length)\n",
    "print(\"English vocabulary size:\", english_vocab_size)\n",
    "print(\"French vocabulary size:\", french_vocab_size)"
   ]
  },
  {
   "cell_type": "markdown",
   "metadata": {},
   "source": [
    "## Models\n",
    "In this section, you will experiment with various neural network architectures.\n",
    "You will begin by training four relatively simple architectures.\n",
    "- Model 1 is a simple RNN\n",
    "- Model 2 is a RNN with Embedding\n",
    "- Model 3 is a Bidirectional RNN\n",
    "- Model 4 is an optional Encoder-Decoder RNN\n",
    "\n",
    "After experimenting with the four simple architectures, you will construct a deeper architecture that is designed to outperform all four models.\n",
    "### Ids Back to Text\n",
    "The neural network will be translating the input to words ids, which isn't the final form we want.  We want the French translation.  The function `logits_to_text` will bridge the gab between the logits from the neural network to the French translation.  You'll be using this function to better understand the output of the neural network."
   ]
  },
  {
   "cell_type": "code",
   "execution_count": 11,
   "metadata": {},
   "outputs": [
    {
     "name": "stdout",
     "output_type": "stream",
     "text": [
      "`logits_to_text` function loaded.\n"
     ]
    }
   ],
   "source": [
    "def logits_to_text(logits, tokenizer):\n",
    "    \"\"\"\n",
    "    Turn logits from a neural network into text using the tokenizer\n",
    "    :param logits: Logits from a neural network\n",
    "    :param tokenizer: Keras Tokenizer fit on the labels\n",
    "    :return: String that represents the text of the logits\n",
    "    \"\"\"\n",
    "    index_to_words = {id: word for word, id in tokenizer.word_index.items()}\n",
    "    index_to_words[0] = '<PAD>'\n",
    "\n",
    "    return ' '.join([index_to_words[prediction] for prediction in np.argmax(logits, 1)])\n",
    "\n",
    "print('`logits_to_text` function loaded.')"
   ]
  },
  {
   "cell_type": "markdown",
   "metadata": {},
   "source": [
    "### Model 1: RNN (IMPLEMENTATION)\n",
    "![RNN](images/rnn.png)\n",
    "A basic RNN model is a good baseline for sequence data.  In this model, you'll build a RNN that translates English to French."
   ]
  },
  {
   "cell_type": "code",
   "execution_count": 12,
   "metadata": {},
   "outputs": [],
   "source": [
    "from keras.models import Sequential\n",
    "from keras.layers import Dense, Activation, SimpleRNN ,Flatten, Dropout"
   ]
  },
  {
   "cell_type": "code",
   "execution_count": 13,
   "metadata": {},
   "outputs": [],
   "source": [
    "import tensorflow as tf "
   ]
  },
  {
   "cell_type": "code",
   "execution_count": 14,
   "metadata": {},
   "outputs": [
    {
     "name": "stdout",
     "output_type": "stream",
     "text": [
      "Train on 110288 samples, validate on 27573 samples\n",
      "Epoch 1/10\n",
      "110288/110288 [==============================] - 8s 75us/step - loss: 2.7325 - acc: 0.4571 - val_loss: 2.2169 - val_acc: 0.4883\n",
      "Epoch 2/10\n",
      "110288/110288 [==============================] - 6s 58us/step - loss: 1.9904 - acc: 0.5268 - val_loss: 1.7844 - val_acc: 0.5704\n",
      "Epoch 3/10\n",
      "110288/110288 [==============================] - 6s 59us/step - loss: 1.6636 - acc: 0.5860 - val_loss: 1.5790 - val_acc: 0.5940\n",
      "Epoch 4/10\n",
      "110288/110288 [==============================] - 6s 58us/step - loss: 1.5328 - acc: 0.5988 - val_loss: 1.4918 - val_acc: 0.6031\n",
      "Epoch 5/10\n",
      "110288/110288 [==============================] - 7s 59us/step - loss: 1.4631 - acc: 0.6089 - val_loss: 1.4341 - val_acc: 0.6098\n",
      "Epoch 6/10\n",
      "110288/110288 [==============================] - 6s 58us/step - loss: 1.4086 - acc: 0.6155 - val_loss: 1.3863 - val_acc: 0.6184\n",
      "Epoch 7/10\n",
      "110288/110288 [==============================] - 6s 58us/step - loss: 1.3612 - acc: 0.6251 - val_loss: 1.3388 - val_acc: 0.6260\n",
      "Epoch 8/10\n",
      "110288/110288 [==============================] - 6s 58us/step - loss: 1.3232 - acc: 0.6293 - val_loss: 1.3060 - val_acc: 0.6294\n",
      "Epoch 9/10\n",
      "110288/110288 [==============================] - 7s 60us/step - loss: 1.2929 - acc: 0.6341 - val_loss: 1.2811 - val_acc: 0.6331\n",
      "Epoch 10/10\n",
      "110288/110288 [==============================] - 7s 59us/step - loss: 1.2693 - acc: 0.6391 - val_loss: 1.2582 - val_acc: 0.6436\n",
      "new jersey est parfois parfois en mois et il est est en en <PAD> <PAD> <PAD> <PAD> <PAD> <PAD> <PAD> <PAD>\n"
     ]
    }
   ],
   "source": [
    "def simple_model(input_shape, output_sequence_length, english_vocab_size, french_vocab_size):\n",
    "    \"\"\"\n",
    "    Build and train a basic RNN on x and y\n",
    "    :param input_shape: Tuple of input shape\n",
    "    :param output_sequence_length: Length of output sequence\n",
    "    :param english_vocab_size: Number of unique English words in the dataset\n",
    "    :param french_vocab_size: Number of unique French words in the dataset\n",
    "    :return: Keras model built, but not trained\n",
    "\n",
    "    \"\"\"\n",
    "\n",
    "\n",
    "    model = Sequential()\n",
    "    \n",
    "    x = Input(shape=input_shape[1:])\n",
    "    y = GRU(32, input_shape= input_shape[1:], return_sequences=True)(x)\n",
    "    z = TimeDistributed(Dense(french_vocab_size, activation='softmax'))(y)\n",
    "    model = Model(x,z)\n",
    "    \n",
    "\n",
    "    learning_rate = 0.01\n",
    "    model.compile(loss=sparse_categorical_crossentropy,\n",
    "                  optimizer=Adam(learning_rate),\n",
    "                  metrics=['accuracy'])\n",
    "    return model\n",
    "tests.test_simple_model(simple_model)\n",
    "\n",
    "# Reshaping the input to work with a basic RNN\n",
    "tmp_x = pad(preproc_english_sentences, max_french_sequence_length)\n",
    "tmp_x = tmp_x.reshape((-1, preproc_french_sentences.shape[-2], 1))\n",
    "\n",
    "\n",
    "\n",
    "# Train the neural network\n",
    "simple_rnn_model = simple_model(\n",
    "    tmp_x.shape,\n",
    "    max_french_sequence_length,\n",
    "    english_vocab_size+1,\n",
    "    french_vocab_size+1)\n",
    "simple_rnn_model.fit(tmp_x, preproc_french_sentences, batch_size=1024, epochs=10, validation_split=0.2)\n",
    "\n",
    "# Print prediction(s)\n",
    "print(logits_to_text(simple_rnn_model.predict(tmp_x[:1])[0], french_tokenizer))"
   ]
  },
  {
   "cell_type": "markdown",
   "metadata": {},
   "source": [
    "###### Model 2: Embedding (IMPLEMENTATION)\n",
    "![RNN](images/embedding.png)\n",
    "You've turned the words into ids, but there's a better representation of a word.  This is called word embeddings.  An embedding is a vector representation of the word that is close to similar words in n-dimensional space, where the n represents the size of the embedding vectors.\n",
    "\n",
    "In this model, you'll create a RNN model using embedding."
   ]
  },
  {
   "cell_type": "code",
   "execution_count": 13,
   "metadata": {},
   "outputs": [],
   "source": [
    "from keras.models import Sequential"
   ]
  },
  {
   "cell_type": "code",
   "execution_count": 16,
   "metadata": {
    "scrolled": false
   },
   "outputs": [
    {
     "name": "stdout",
     "output_type": "stream",
     "text": [
      "(137861, 21)\n",
      "Train on 110288 samples, validate on 27573 samples\n",
      "Epoch 1/10\n",
      "110288/110288 [==============================] - 8s 70us/step - loss: 1.0515 - acc: 0.7319 - val_loss: 0.6514 - val_acc: 0.8015\n",
      "Epoch 2/10\n",
      "110288/110288 [==============================] - 7s 67us/step - loss: 0.6092 - acc: 0.8121 - val_loss: 0.5776 - val_acc: 0.8217\n",
      "Epoch 3/10\n",
      "110288/110288 [==============================] - 7s 66us/step - loss: 0.5732 - acc: 0.8212 - val_loss: 0.5553 - val_acc: 0.8273\n",
      "Epoch 4/10\n",
      "110288/110288 [==============================] - 7s 65us/step - loss: 0.5682 - acc: 0.8222 - val_loss: 0.5544 - val_acc: 0.8268\n",
      "Epoch 5/10\n",
      "110288/110288 [==============================] - 7s 66us/step - loss: 0.5579 - acc: 0.8252 - val_loss: 0.5785 - val_acc: 0.8199\n",
      "Epoch 6/10\n",
      "110288/110288 [==============================] - 7s 67us/step - loss: 0.5711 - acc: 0.8196 - val_loss: 0.5689 - val_acc: 0.8184\n",
      "Epoch 7/10\n",
      "110288/110288 [==============================] - 7s 66us/step - loss: 0.5797 - acc: 0.8187 - val_loss: 0.6250 - val_acc: 0.8071\n",
      "Epoch 8/10\n",
      "110288/110288 [==============================] - 7s 66us/step - loss: 0.5903 - acc: 0.8156 - val_loss: 0.5895 - val_acc: 0.8167\n",
      "Epoch 9/10\n",
      "110288/110288 [==============================] - 7s 66us/step - loss: 0.5821 - acc: 0.8177 - val_loss: 0.5763 - val_acc: 0.8191\n",
      "Epoch 10/10\n",
      "110288/110288 [==============================] - 7s 65us/step - loss: 0.5989 - acc: 0.8127 - val_loss: 0.5942 - val_acc: 0.8147\n",
      "new jersey est parfois calme en l' et il automne neigeux en en <PAD> <PAD> <PAD> <PAD> <PAD> <PAD> <PAD> <PAD>\n"
     ]
    }
   ],
   "source": [
    "def embed_model(input_shape, output_sequence_length, english_vocab_size, french_vocab_size):\n",
    "    \"\"\"\n",
    "    Build and train a RNN model using word embedding on x and y\n",
    "    :param input_shape: Tuple of input shape\n",
    "    :param output_sequence_length: Length of output sequence\n",
    "    :param english_vocab_size: Number of unique English words in the dataset\n",
    "    :param french_vocab_size: Number of unique French words in the dataset\n",
    "    :return: Keras model built, but not trained\n",
    "    \"\"\"\n",
    "    \n",
    "    \n",
    "    \n",
    "    embedding_mat_columns=64\n",
    "    \n",
    "    model = Sequential()\n",
    "    \n",
    "    x = Input(shape=input_shape[1:])\n",
    "    E = Embedding(input_dim=english_vocab_size,\n",
    "                        output_dim=embedding_mat_columns,\n",
    "                        )(x)\n",
    "    y = GRU(32, input_shape= input_shape[1:], return_sequences=True)(E)\n",
    "    z = TimeDistributed(Dense(french_vocab_size, activation='softmax'))(y)\n",
    "    model = Model(x,z)\n",
    "    \n",
    "    \n",
    "    learning_rate = 0.1 \n",
    "    model.compile(loss=sparse_categorical_crossentropy,\n",
    "                      optimizer=Adam(learning_rate),\n",
    "                      metrics=['accuracy'])\n",
    "    \n",
    "\n",
    "    \n",
    "    \n",
    "    return model\n",
    "\n",
    "tests.test_embed_model(embed_model)\n",
    "\n",
    "tmp_x = pad(preproc_english_sentences, max_french_sequence_length)\n",
    "#tmp_x = tmp_x.reshape((-1, preproc_french_sentences.shape[-2], 1))\n",
    "\n",
    "print(tmp_x.shape)\n",
    "\n",
    "# Train the neural network\n",
    "embedmodel = embed_model(\n",
    "    tmp_x.shape,\n",
    "    max_french_sequence_length,\n",
    "    english_vocab_size+1,\n",
    "    french_vocab_size+1)\n",
    "embedmodel.fit(tmp_x, preproc_french_sentences, batch_size=1024, epochs=10, validation_split=0.2)\n",
    "print(logits_to_text(embedmodel.predict(tmp_x[:1])[0], french_tokenizer))\n",
    "\n",
    "# TODO: Reshape the input\n",
    "\n",
    "# TODO: Train the neural network\n",
    "\n",
    "# TODO: Print prediction(s)"
   ]
  },
  {
   "cell_type": "markdown",
   "metadata": {},
   "source": [
    "### Model 3: Bidirectional RNNs (IMPLEMENTATION)\n",
    "![RNN](images/bidirectional.png)\n",
    "One restriction of a RNN is that it can't see the future input, only the past.  This is where bidirectional recurrent neural networks come in.  They are able to see the future data."
   ]
  },
  {
   "cell_type": "code",
   "execution_count": 14,
   "metadata": {},
   "outputs": [
    {
     "name": "stdout",
     "output_type": "stream",
     "text": [
      "(137861, 21, 1)\n",
      "Train on 110288 samples, validate on 27573 samples\n",
      "Epoch 1/40\n",
      "110288/110288 [==============================] - 42s 384us/step - loss: 1.9280 - acc: 0.5351 - val_loss: 1.4939 - val_acc: 0.5850\n",
      "Epoch 2/40\n",
      "110288/110288 [==============================] - 41s 373us/step - loss: 1.3177 - acc: 0.6311 - val_loss: 1.2248 - val_acc: 0.6458\n",
      "Epoch 3/40\n",
      "110288/110288 [==============================] - 51s 460us/step - loss: 1.1408 - acc: 0.6663 - val_loss: 1.0754 - val_acc: 0.6794\n",
      "Epoch 4/40\n",
      "110288/110288 [==============================] - 39s 352us/step - loss: 1.0596 - acc: 0.6808 - val_loss: 1.0039 - val_acc: 0.6964\n",
      "Epoch 5/40\n",
      "110288/110288 [==============================] - 39s 351us/step - loss: 0.9525 - acc: 0.7068 - val_loss: 0.8915 - val_acc: 0.7212\n",
      "Epoch 6/40\n",
      "110288/110288 [==============================] - 39s 350us/step - loss: 0.9026 - acc: 0.7169 - val_loss: 0.8610 - val_acc: 0.7235\n",
      "Epoch 7/40\n",
      "110288/110288 [==============================] - 39s 350us/step - loss: 0.8935 - acc: 0.7177 - val_loss: 0.8701 - val_acc: 0.7186\n",
      "Epoch 8/40\n",
      "110288/110288 [==============================] - 39s 350us/step - loss: 0.8487 - acc: 0.7265 - val_loss: 0.7958 - val_acc: 0.7413\n",
      "Epoch 9/40\n",
      "110288/110288 [==============================] - 39s 350us/step - loss: 0.7429 - acc: 0.7530 - val_loss: 0.7070 - val_acc: 0.7649\n",
      "Epoch 10/40\n",
      "110288/110288 [==============================] - 39s 351us/step - loss: 0.7280 - acc: 0.7554 - val_loss: 0.7347 - val_acc: 0.7521\n",
      "Epoch 11/40\n",
      "110288/110288 [==============================] - 39s 351us/step - loss: 0.7370 - acc: 0.7501 - val_loss: 0.6989 - val_acc: 0.7638\n",
      "Epoch 12/40\n",
      "110288/110288 [==============================] - 39s 351us/step - loss: 0.7062 - acc: 0.7599 - val_loss: 0.6335 - val_acc: 0.7825\n",
      "Epoch 13/40\n",
      "110288/110288 [==============================] - 39s 350us/step - loss: 0.6557 - acc: 0.7754 - val_loss: 0.6480 - val_acc: 0.7778\n",
      "Epoch 14/40\n",
      "110288/110288 [==============================] - 39s 350us/step - loss: 0.6612 - acc: 0.7732 - val_loss: 0.6210 - val_acc: 0.7892\n",
      "Epoch 15/40\n",
      "110288/110288 [==============================] - 39s 350us/step - loss: 0.6365 - acc: 0.7824 - val_loss: 0.5777 - val_acc: 0.7993\n",
      "Epoch 16/40\n",
      "110288/110288 [==============================] - 39s 350us/step - loss: 0.5922 - acc: 0.7945 - val_loss: 0.5774 - val_acc: 0.8013\n",
      "Epoch 17/40\n",
      "110288/110288 [==============================] - 39s 349us/step - loss: 0.5910 - acc: 0.7958 - val_loss: 0.5680 - val_acc: 0.8024\n",
      "Epoch 18/40\n",
      "110288/110288 [==============================] - 38s 349us/step - loss: 0.7004 - acc: 0.7698 - val_loss: 0.6606 - val_acc: 0.7849\n",
      "Epoch 19/40\n",
      "110288/110288 [==============================] - 38s 349us/step - loss: 0.6244 - acc: 0.7873 - val_loss: 0.5839 - val_acc: 0.7944\n",
      "Epoch 20/40\n",
      "110288/110288 [==============================] - 38s 349us/step - loss: 0.6040 - acc: 0.7946 - val_loss: 0.5975 - val_acc: 0.7916\n",
      "Epoch 21/40\n",
      "110288/110288 [==============================] - 38s 348us/step - loss: 0.6160 - acc: 0.7909 - val_loss: 0.7067 - val_acc: 0.7592\n",
      "Epoch 22/40\n",
      "110288/110288 [==============================] - 38s 349us/step - loss: 0.6138 - acc: 0.7935 - val_loss: 0.5462 - val_acc: 0.8147\n",
      "Epoch 23/40\n",
      "110288/110288 [==============================] - 38s 349us/step - loss: 0.6015 - acc: 0.7927 - val_loss: 0.6091 - val_acc: 0.7896\n",
      "Epoch 24/40\n",
      "110288/110288 [==============================] - 39s 350us/step - loss: 0.6439 - acc: 0.7816 - val_loss: 0.6463 - val_acc: 0.7763\n",
      "Epoch 25/40\n",
      "110288/110288 [==============================] - 38s 349us/step - loss: 0.6258 - acc: 0.7894 - val_loss: 0.7315 - val_acc: 0.7655\n",
      "Epoch 26/40\n",
      "110288/110288 [==============================] - 39s 350us/step - loss: 0.6809 - acc: 0.7751 - val_loss: 0.7027 - val_acc: 0.7661\n",
      "Epoch 27/40\n",
      "110288/110288 [==============================] - 38s 348us/step - loss: 0.7908 - acc: 0.7505 - val_loss: 0.7063 - val_acc: 0.7728\n",
      "Epoch 28/40\n",
      "110288/110288 [==============================] - 38s 349us/step - loss: 0.6526 - acc: 0.7848 - val_loss: 0.6443 - val_acc: 0.7905\n",
      "Epoch 29/40\n",
      "110288/110288 [==============================] - 38s 349us/step - loss: 0.6347 - acc: 0.7887 - val_loss: 0.7921 - val_acc: 0.7493\n",
      "Epoch 30/40\n",
      "110288/110288 [==============================] - 38s 347us/step - loss: 0.6357 - acc: 0.7873 - val_loss: 0.6181 - val_acc: 0.7904\n",
      "Epoch 31/40\n",
      "110288/110288 [==============================] - 39s 349us/step - loss: 0.6144 - acc: 0.7929 - val_loss: 0.6504 - val_acc: 0.7819\n",
      "Epoch 32/40\n",
      "110288/110288 [==============================] - 39s 351us/step - loss: 0.6439 - acc: 0.7862 - val_loss: 0.7608 - val_acc: 0.7509\n",
      "Epoch 33/40\n",
      "110288/110288 [==============================] - 39s 351us/step - loss: 0.6497 - acc: 0.7847 - val_loss: 0.6066 - val_acc: 0.7969\n",
      "Epoch 34/40\n",
      "110288/110288 [==============================] - 39s 351us/step - loss: 0.7211 - acc: 0.7631 - val_loss: 0.8285 - val_acc: 0.7612\n",
      "Epoch 35/40\n",
      "110288/110288 [==============================] - 39s 351us/step - loss: 1.4130 - acc: 0.6577 - val_loss: 1.1741 - val_acc: 0.6748\n",
      "Epoch 36/40\n",
      "110288/110288 [==============================] - 39s 351us/step - loss: 1.0833 - acc: 0.6967 - val_loss: 0.9897 - val_acc: 0.7184\n",
      "Epoch 37/40\n",
      "110288/110288 [==============================] - 39s 351us/step - loss: 1.0221 - acc: 0.7099 - val_loss: 0.9621 - val_acc: 0.7221\n",
      "Epoch 38/40\n",
      "110288/110288 [==============================] - 39s 351us/step - loss: 0.9409 - acc: 0.7267 - val_loss: 0.9180 - val_acc: 0.7314\n",
      "Epoch 39/40\n",
      "110288/110288 [==============================] - 39s 351us/step - loss: 0.9694 - acc: 0.7154 - val_loss: 0.9788 - val_acc: 0.7108\n",
      "Epoch 40/40\n",
      "110288/110288 [==============================] - 39s 351us/step - loss: 0.9540 - acc: 0.7172 - val_loss: 0.9309 - val_acc: 0.7236\n",
      "new jersey est parfois pluvieux pendant l' hiver il il est en en <PAD> <PAD> <PAD> <PAD> <PAD> <PAD> <PAD> <PAD>\n"
     ]
    }
   ],
   "source": [
    "def bd_model(input_shape, output_sequence_length, english_vocab_size, french_vocab_size):\n",
    "    \"\"\"\n",
    "    Build and train a bidirectional RNN model on x and y\n",
    "    :param input_shape: Tuple of input shape\n",
    "    :param output_sequence_length: Length of output sequence\n",
    "    :param english_vocab_size: Number of unique English words in the dataset\n",
    "    :param french_vocab_size: Number of unique French words in the dataset\n",
    "    :return: Keras model built, but not trained\n",
    "    \"\"\"\n",
    "  \n",
    "    model = Sequential()\n",
    "    \n",
    "    x  = Input(shape=input_shape[1:])\n",
    "    b1 = Bidirectional(GRU(256, return_sequences=False))(x)\n",
    "    r  = RepeatVector(output_sequence_length)(b1)\n",
    "    b2 = Bidirectional(GRU(128,return_sequences=True))(r)\n",
    "    z  = TimeDistributed(Dense(french_vocab_size,activation='softmax'))(b2)\n",
    "\n",
    "    model = Model(x,z)\n",
    "\n",
    "    \n",
    "    learning_rate = 0.01 \n",
    "    model.compile(loss=sparse_categorical_crossentropy,\n",
    "                      optimizer=Adam(learning_rate),\n",
    "                      metrics=['accuracy'])\n",
    "    return model\n",
    "tests.test_bd_model(bd_model)\n",
    "\n",
    "\n",
    "tmp_x = pad(preproc_english_sentences, max_french_sequence_length)\n",
    "tmp_x = tmp_x.reshape((-1, preproc_french_sentences.shape[-2], 1))\n",
    "\n",
    "print(tmp_x.shape)\n",
    "\n",
    "# Train the neural network\n",
    "bd_model_model = bd_model(\n",
    "    tmp_x.shape,\n",
    "    max_french_sequence_length,\n",
    "    english_vocab_size+1,\n",
    "    french_vocab_size+1)\n",
    "\n",
    "bd_model_model.fit(tmp_x, preproc_french_sentences, batch_size=512, epochs=40, validation_split=0.2)\n",
    "print(logits_to_text(bd_model_model.predict(tmp_x[:1])[0], french_tokenizer))\n",
    "# TODO: Train and Print prediction(s)"
   ]
  },
  {
   "cell_type": "markdown",
   "metadata": {},
   "source": [
    "### Model 4: Encoder-Decoder (OPTIONAL)\n",
    "Time to look at encoder-decoder models.  This model is made up of an encoder and decoder. The encoder creates a matrix representation of the sentence.  The decoder takes this matrix as input and predicts the translation as output.\n",
    "\n",
    "Create an encoder-decoder model in the cell below."
   ]
  },
  {
   "cell_type": "code",
   "execution_count": 19,
   "metadata": {},
   "outputs": [],
   "source": [
    "def encdec_model(input_shape, output_sequence_length, english_vocab_size, french_vocab_size):\n",
    "    \"\"\"\n",
    "    Build and train an encoder-decoder model on x and y\n",
    "    :param input_shape: Tuple of input shape\n",
    "    :param output_sequence_length: Length of output sequence\n",
    "    :param english_vocab_size: Number of unique English words in the dataset\n",
    "    :param french_vocab_size: Number of unique French words in the dataset\n",
    "    :return: Keras model built, but not trained\n",
    "    \"\"\"\n",
    "\n",
    "    \n",
    "    return None\n",
    "tests.test_encdec_model(encdec_model)\n",
    "\n",
    "\n",
    "\n",
    "# OPTIONAL: Train and Print prediction(s)"
   ]
  },
  {
   "cell_type": "markdown",
   "metadata": {},
   "source": [
    "### Model 5: Custom (IMPLEMENTATION)\n",
    "Use everything you learned from the previous models to create a model that incorporates embedding and a bidirectional rnn into one model."
   ]
  },
  {
   "cell_type": "code",
   "execution_count": 14,
   "metadata": {},
   "outputs": [],
   "source": [
    "from keras.layers import LSTM"
   ]
  },
  {
   "cell_type": "code",
   "execution_count": 15,
   "metadata": {},
   "outputs": [
    {
     "name": "stdout",
     "output_type": "stream",
     "text": [
      "Final Model Loaded\n",
      "Train on 110288 samples, validate on 27573 samples\n",
      "Epoch 1/40\n",
      "110288/110288 [==============================] - 90s 812us/step - loss: 2.0677 - acc: 0.5431 - val_loss: 1.1508 - val_acc: 0.6789\n",
      "Epoch 2/40\n",
      "110288/110288 [==============================] - 87s 787us/step - loss: 0.9235 - acc: 0.7300 - val_loss: 0.7278 - val_acc: 0.7752\n",
      "Epoch 3/40\n",
      "110288/110288 [==============================] - 87s 787us/step - loss: 0.5709 - acc: 0.8241 - val_loss: 0.4240 - val_acc: 0.8663\n",
      "Epoch 4/40\n",
      "110288/110288 [==============================] - 87s 787us/step - loss: 0.3435 - acc: 0.8939 - val_loss: 0.2899 - val_acc: 0.9099\n",
      "Epoch 5/40\n",
      "110288/110288 [==============================] - 87s 788us/step - loss: 0.2297 - acc: 0.9290 - val_loss: 0.2195 - val_acc: 0.9324\n",
      "Epoch 6/40\n",
      "110288/110288 [==============================] - 87s 787us/step - loss: 0.1850 - acc: 0.9422 - val_loss: 0.1740 - val_acc: 0.9457\n",
      "Epoch 7/40\n",
      "110288/110288 [==============================] - 87s 788us/step - loss: 0.1484 - acc: 0.9539 - val_loss: 0.1486 - val_acc: 0.9542\n",
      "Epoch 8/40\n",
      "110288/110288 [==============================] - 87s 787us/step - loss: 0.1347 - acc: 0.9584 - val_loss: 0.1349 - val_acc: 0.9592\n",
      "Epoch 9/40\n",
      "110288/110288 [==============================] - 87s 788us/step - loss: 0.1327 - acc: 0.9599 - val_loss: 0.1211 - val_acc: 0.9642\n",
      "Epoch 10/40\n",
      "110288/110288 [==============================] - 87s 788us/step - loss: 0.1056 - acc: 0.9682 - val_loss: 0.1144 - val_acc: 0.9666\n",
      "Epoch 11/40\n",
      "110288/110288 [==============================] - 87s 788us/step - loss: 0.0929 - acc: 0.9723 - val_loss: 0.1100 - val_acc: 0.9685\n",
      "Epoch 12/40\n",
      "110288/110288 [==============================] - 87s 787us/step - loss: 0.0944 - acc: 0.9720 - val_loss: 0.0998 - val_acc: 0.9713\n",
      "Epoch 13/40\n",
      "110288/110288 [==============================] - 87s 787us/step - loss: 0.0783 - acc: 0.9771 - val_loss: 0.1276 - val_acc: 0.9646\n",
      "Epoch 14/40\n",
      "110288/110288 [==============================] - 87s 788us/step - loss: 0.0907 - acc: 0.9734 - val_loss: 0.1037 - val_acc: 0.9712\n",
      "Epoch 15/40\n",
      "110288/110288 [==============================] - 87s 787us/step - loss: 0.0740 - acc: 0.9787 - val_loss: 0.1001 - val_acc: 0.9729\n",
      "Epoch 16/40\n",
      "110288/110288 [==============================] - 87s 788us/step - loss: 0.0764 - acc: 0.9782 - val_loss: 0.0962 - val_acc: 0.9730\n",
      "Epoch 17/40\n",
      "110288/110288 [==============================] - 87s 787us/step - loss: 0.0781 - acc: 0.9778 - val_loss: 0.1089 - val_acc: 0.9696\n",
      "Epoch 18/40\n",
      "110288/110288 [==============================] - 87s 787us/step - loss: 0.0670 - acc: 0.9811 - val_loss: 0.0879 - val_acc: 0.9768\n",
      "Epoch 19/40\n",
      "110288/110288 [==============================] - 87s 788us/step - loss: 0.0697 - acc: 0.9806 - val_loss: 0.1041 - val_acc: 0.9722\n",
      "Epoch 20/40\n",
      "110288/110288 [==============================] - 87s 788us/step - loss: 0.0606 - acc: 0.9831 - val_loss: 0.0881 - val_acc: 0.9778\n",
      "Epoch 21/40\n",
      "110288/110288 [==============================] - 87s 788us/step - loss: 0.0538 - acc: 0.9853 - val_loss: 0.0932 - val_acc: 0.9762\n",
      "Epoch 22/40\n",
      "110288/110288 [==============================] - 87s 788us/step - loss: 0.0822 - acc: 0.9773 - val_loss: 0.1356 - val_acc: 0.9659\n",
      "Epoch 23/40\n",
      "110288/110288 [==============================] - 87s 788us/step - loss: 0.0829 - acc: 0.9770 - val_loss: 0.1059 - val_acc: 0.9726\n",
      "Epoch 24/40\n",
      "110288/110288 [==============================] - 87s 788us/step - loss: 0.0561 - acc: 0.9849 - val_loss: 0.0957 - val_acc: 0.9758\n",
      "Epoch 25/40\n",
      "110288/110288 [==============================] - 87s 788us/step - loss: 0.0522 - acc: 0.9861 - val_loss: 0.1262 - val_acc: 0.9679\n",
      "Epoch 26/40\n",
      "110288/110288 [==============================] - 87s 788us/step - loss: 0.0736 - acc: 0.9801 - val_loss: 0.1106 - val_acc: 0.9726\n",
      "Epoch 27/40\n",
      "110288/110288 [==============================] - 87s 787us/step - loss: 0.0602 - acc: 0.9838 - val_loss: 0.0991 - val_acc: 0.9762\n",
      "Epoch 28/40\n",
      "110288/110288 [==============================] - 87s 788us/step - loss: 0.0516 - acc: 0.9864 - val_loss: 0.1059 - val_acc: 0.9748\n",
      "Epoch 29/40\n",
      "110288/110288 [==============================] - 87s 788us/step - loss: 0.0530 - acc: 0.9860 - val_loss: 0.0914 - val_acc: 0.9793\n",
      "Epoch 30/40\n",
      "110288/110288 [==============================] - 87s 788us/step - loss: 0.0554 - acc: 0.9856 - val_loss: 0.1229 - val_acc: 0.9696\n",
      "Epoch 31/40\n",
      "110288/110288 [==============================] - 87s 787us/step - loss: 0.0658 - acc: 0.9825 - val_loss: 0.0986 - val_acc: 0.9767\n",
      "Epoch 32/40\n",
      "110288/110288 [==============================] - 87s 788us/step - loss: 0.0528 - acc: 0.9862 - val_loss: 0.0856 - val_acc: 0.9800\n",
      "Epoch 33/40\n",
      "110288/110288 [==============================] - 87s 788us/step - loss: 0.0460 - acc: 0.9883 - val_loss: 0.0979 - val_acc: 0.9773\n",
      "Epoch 34/40\n",
      "110288/110288 [==============================] - 87s 788us/step - loss: 0.0948 - acc: 0.9749 - val_loss: 0.1139 - val_acc: 0.9718\n",
      "Epoch 35/40\n",
      "110288/110288 [==============================] - 87s 788us/step - loss: 0.0663 - acc: 0.9825 - val_loss: 0.1146 - val_acc: 0.9724\n",
      "Epoch 36/40\n",
      "110288/110288 [==============================] - 87s 788us/step - loss: 0.0617 - acc: 0.9839 - val_loss: 0.1033 - val_acc: 0.9764\n",
      "Epoch 37/40\n",
      "110288/110288 [==============================] - 87s 788us/step - loss: 0.0491 - acc: 0.9875 - val_loss: 0.0859 - val_acc: 0.9804\n",
      "Epoch 38/40\n",
      "110288/110288 [==============================] - 87s 787us/step - loss: 0.0469 - acc: 0.9881 - val_loss: 0.0966 - val_acc: 0.9785\n",
      "Epoch 39/40\n",
      "110288/110288 [==============================] - 87s 787us/step - loss: 0.0926 - acc: 0.9767 - val_loss: 0.2110 - val_acc: 0.9468\n",
      "Epoch 40/40\n",
      "110288/110288 [==============================] - 87s 787us/step - loss: 0.1594 - acc: 0.9597 - val_loss: 0.1599 - val_acc: 0.9596\n"
     ]
    },
    {
     "data": {
      "text/plain": [
       "<keras.callbacks.History at 0x7ff2089e1f60>"
      ]
     },
     "execution_count": 15,
     "metadata": {},
     "output_type": "execute_result"
    }
   ],
   "source": [
    "def model_final(input_shape, output_sequence_length, english_vocab_size, french_vocab_size):\n",
    "    \"\"\"\n",
    "    Build and train a model that incorporates embedding, encoder-decoder, and bidirectional RNN on x and y\n",
    "    :param input_shape: Tuple of input shape\n",
    "    :param output_sequence_length: Length of output sequence\n",
    "    :param english_vocab_size: Number of unique English words in the dataset\n",
    "    :param french_vocab_size: Number of unique French words in the dataset\n",
    "    :return: Keras model built, but not trained\n",
    "    \"\"\"\n",
    "    \n",
    "    model = Sequential()\n",
    "    \n",
    "    x  = Input(shape=input_shape[1:])\n",
    "    \n",
    "    E = Embedding(input_dim=english_vocab_size,output_dim=output_sequence_length)(x)\n",
    "         \n",
    "    b1 = Bidirectional(LSTM(512, return_sequences=False))(E)\n",
    "    r  = RepeatVector(output_sequence_length)(b1)\n",
    "    b2 = Bidirectional(GRU(256,return_sequences=True))(r)\n",
    "    z  = TimeDistributed(Dense(french_vocab_size,activation='softmax'))(b2)\n",
    "\n",
    "    model = Model(x,z)\n",
    "    \n",
    "    learning_rate = 0.005 \n",
    "    model.compile(loss=sparse_categorical_crossentropy,\n",
    "                      optimizer=Adam(learning_rate),\n",
    "                      metrics=['accuracy'])\n",
    "    \n",
    "    return model\n",
    "tests.test_model_final(model_final_2)\n",
    "\n",
    "print('Final Model Loaded')\n",
    "\n",
    "\n",
    "tmp_x = pad(preproc_english_sentences, max_french_sequence_length)\n",
    "#tmp_x = tmp_x.reshape((-1, preproc_french_sentences.shape[-2], 1))\n",
    "\n",
    "\n",
    "\n",
    "# Train the neural network\n",
    "finalmodel = model_final_2(\n",
    "    tmp_x.shape,\n",
    "    max_french_sequence_length,\n",
    "    english_vocab_size+1,\n",
    "    french_vocab_size+1)\n",
    "\n",
    "finalmodel.fit(tmp_x, preproc_french_sentences, batch_size=512, epochs=40, validation_split=0.2)"
   ]
  },
  {
   "cell_type": "markdown",
   "metadata": {},
   "source": [
    "## Prediction (IMPLEMENTATION)"
   ]
  },
  {
   "cell_type": "code",
   "execution_count": 16,
   "metadata": {},
   "outputs": [
    {
     "name": "stdout",
     "output_type": "stream",
     "text": [
      "Sample 1:\n",
      "il a vu un vieux camion jaune <PAD> <PAD> <PAD> <PAD> <PAD> <PAD> <PAD> <PAD> <PAD> <PAD> <PAD> <PAD> <PAD> <PAD>\n",
      "Il a vu un vieux camion jaune\n",
      "Sample 2:\n",
      "new jersey est parfois calme pendant l' automne et il est neigeux en avril <PAD> <PAD> <PAD> <PAD> <PAD> <PAD> <PAD>\n",
      "new jersey est parfois calme pendant l' automne et il est neigeux en avril <PAD> <PAD> <PAD> <PAD> <PAD> <PAD> <PAD>\n"
     ]
    }
   ],
   "source": [
    "def final_predictions(x, y, x_tk, y_tk):\n",
    "    \"\"\"\n",
    "    Gets predictions using the final model\n",
    "    :param x: Preprocessed English data\n",
    "    :param y: Preprocessed French data\n",
    "    :param x_tk: English tokenizer\n",
    "    :param y_tk: French tokenizer\n",
    "    \"\"\"\n",
    "    # TODO: Train neural network using model_final\n",
    "    model = finalmodel\n",
    "\n",
    "    \n",
    "    ## DON'T EDIT ANYTHING BELOW THIS LINE\n",
    "    y_id_to_word = {value: key for key, value in y_tk.word_index.items()}\n",
    "    y_id_to_word[0] = '<PAD>'\n",
    "\n",
    "    sentence = 'he saw a old yellow truck'\n",
    "    sentence = [x_tk.word_index[word] for word in sentence.split()]\n",
    "    sentence = pad_sequences([sentence], maxlen=x.shape[-1], padding='post')\n",
    "\n",
    "    \n",
    "    sentences = np.array([sentence[0], x[0]])\n",
    "    tmp_sentences = pad(sentences, max_french_sequence_length)\n",
    "    predictions = model.predict(tmp_sentences, len(tmp_sentences))\n",
    "    #predictions = model.predict(sentences, len(sentences))\n",
    "\n",
    "    print('Sample 1:')\n",
    "    print(' '.join([y_id_to_word[np.argmax(x)] for x in predictions[0]]))\n",
    "    print('Il a vu un vieux camion jaune')\n",
    "    print('Sample 2:')\n",
    "    print(' '.join([y_id_to_word[np.argmax(x)] for x in predictions[1]]))\n",
    "    print(' '.join([y_id_to_word[np.max(x)] for x in y[0]]))\n",
    "\n",
    "\n",
    "final_predictions(preproc_english_sentences, preproc_french_sentences, english_tokenizer, french_tokenizer)"
   ]
  },
  {
   "cell_type": "markdown",
   "metadata": {},
   "source": [
    "## Submission\n",
    "When you're ready to submit, complete the following steps:\n",
    "1. Review the [rubric](https://review.udacity.com/#!/rubrics/1004/view) to ensure your submission meets all requirements to pass\n",
    "2. Generate an HTML version of this notebook\n",
    "\n",
    "  - Run the next cell to attempt automatic generation (this is the recommended method in Workspaces)\n",
    "  - Navigate to **FILE -> Download as -> HTML (.html)**\n",
    "  - Manually generate a copy using `nbconvert` from your shell terminal\n",
    "```\n",
    "$ pip install nbconvert\n",
    "$ python -m nbconvert machine_translation.ipynb\n",
    "```\n",
    "  \n",
    "3. Submit the project\n",
    "\n",
    "  - If you are in a Workspace, simply click the \"Submit Project\" button (bottom towards the right)\n",
    "  \n",
    "  - Otherwise, add the following files into a zip archive and submit them \n",
    "  - `helper.py`\n",
    "  - `machine_translation.ipynb`\n",
    "  - `machine_translation.html`\n",
    "    - You can export the notebook by navigating to **File -> Download as -> HTML (.html)**."
   ]
  },
  {
   "cell_type": "markdown",
   "metadata": {},
   "source": [
    "### Generate the html\n",
    "\n",
    "**Save your notebook before running the next cell to generate the HTML output.** Then submit your project."
   ]
  },
  {
   "cell_type": "code",
   "execution_count": 10,
   "metadata": {},
   "outputs": [
    {
     "data": {
      "text/plain": [
       "['[NbConvertApp] Converting notebook machine_translation.ipynb to html',\n",
       " '[NbConvertApp] Writing 367382 bytes to machine_translation.html',\n",
       " '[NbConvertApp] Converting notebook machine_translation-zh.ipynb to html',\n",
       " '[NbConvertApp] Writing 328614 bytes to machine_translation-zh.html']"
      ]
     },
     "execution_count": 10,
     "metadata": {},
     "output_type": "execute_result"
    }
   ],
   "source": [
    "# Save before you run this cell!\n",
    "!!jupyter nbconvert *.ipynb"
   ]
  },
  {
   "cell_type": "markdown",
   "metadata": {},
   "source": [
    "## Optional Enhancements\n",
    "\n",
    "This project focuses on learning various network architectures for machine translation, but we don't evaluate the models according to best practices by splitting the data into separate test & training sets -- so the model accuracy is overstated. Use the [`sklearn.model_selection.train_test_split()`](http://scikit-learn.org/stable/modules/generated/sklearn.model_selection.train_test_split.html) function to create separate training & test datasets, then retrain each of the models using only the training set and evaluate the prediction accuracy using the hold out test set. Does the \"best\" model change?"
   ]
  },
  {
   "cell_type": "code",
   "execution_count": null,
   "metadata": {},
   "outputs": [],
   "source": []
  },
  {
   "cell_type": "code",
   "execution_count": null,
   "metadata": {},
   "outputs": [],
   "source": []
  }
 ],
 "metadata": {
  "kernelspec": {
   "display_name": "Python 3",
   "language": "python",
   "name": "python3"
  },
  "language_info": {
   "codemirror_mode": {
    "name": "ipython",
    "version": 3
   },
   "file_extension": ".py",
   "mimetype": "text/x-python",
   "name": "python",
   "nbconvert_exporter": "python",
   "pygments_lexer": "ipython3",
   "version": "3.6.3"
  }
 },
 "nbformat": 4,
 "nbformat_minor": 1
}
